{
 "cells": [
  {
   "cell_type": "code",
   "execution_count": 58,
   "metadata": {},
   "outputs": [],
   "source": [
    "from transformers import BertModel, AutoTokenizer, AutoModel, BertTokenizerFast\n",
    "import torch\n",
    "import io\n",
    "import json"
   ]
  },
  {
   "cell_type": "code",
   "execution_count": 2,
   "metadata": {},
   "outputs": [],
   "source": [
    "nlp2api_repository = \"C:/MyWorks/MyResearch/CodeSearch/NLP2API/NLP2API-Replication-Package\""
   ]
  },
  {
   "cell_type": "code",
   "execution_count": 3,
   "metadata": {},
   "outputs": [],
   "source": [
    "candidate_folder=nlp2api_repository+\"/candidate\"\n",
    "embedding_folder=nlp2api_repository+\"/embeddings\""
   ]
  },
  {
   "cell_type": "code",
   "execution_count": 4,
   "metadata": {},
   "outputs": [],
   "source": [
    "bert_model_version=\"bert-base-uncased\""
   ]
  },
  {
   "cell_type": "code",
   "execution_count": 5,
   "metadata": {},
   "outputs": [],
   "source": [
    "def get_bert_model():\n",
    "    return BertModel.from_pretrained(bert_model_version)"
   ]
  },
  {
   "cell_type": "code",
   "execution_count": 6,
   "metadata": {},
   "outputs": [],
   "source": [
    "def get_bert_tokenizer():\n",
    "    return BertTokenizerFast.from_pretrained(bert_model_version)"
   ]
  },
  {
   "cell_type": "code",
   "execution_count": 21,
   "metadata": {},
   "outputs": [],
   "source": [
    "bert_model=get_bert_model()\n",
    "bert_tokenizer=get_bert_tokenizer()"
   ]
  },
  {
   "cell_type": "code",
   "execution_count": 36,
   "metadata": {},
   "outputs": [],
   "source": [
    "def get_word_embeddings(word):\n",
    "    tokens=bert_tokenizer.tokenize(word)\n",
    "    token_ids=bert_tokenizer.convert_tokens_to_ids(tokens=tokens)\n",
    "    token_tensor=torch.tensor([token_ids])\n",
    "    bert_output=bert_model(token_tensor)\n",
    "    return bert_output[\"pooler_output\"].detach().numpy()[0]"
   ]
  },
  {
   "cell_type": "code",
   "execution_count": 43,
   "metadata": {},
   "outputs": [],
   "source": [
    "def get_candidate_id_file(query_id):\n",
    "    return f\"{candidate_folder}/{query_id}.txt\""
   ]
  },
  {
   "cell_type": "code",
   "execution_count": 65,
   "metadata": {},
   "outputs": [],
   "source": [
    "def get_candidate_id_embedding_file(query_id):\n",
    "    return f\"{embedding_folder}/{query_id}.json\""
   ]
  },
  {
   "cell_type": "code",
   "execution_count": 45,
   "metadata": {},
   "outputs": [
    {
     "name": "stdout",
     "output_type": "stream",
     "text": [
      "C:/MyWorks/MyResearch/CodeSearch/NLP2API/NLP2API-Replication-Package/candidate/2.txt\n",
      "C:/MyWorks/MyResearch/CodeSearch/NLP2API/NLP2API-Replication-Package/embeddings/2.txt\n"
     ]
    }
   ],
   "source": [
    "print(get_candidate_id_file(2))\n",
    "print(get_candidate_id_embedding_file(2))"
   ]
  },
  {
   "cell_type": "code",
   "execution_count": 95,
   "metadata": {},
   "outputs": [],
   "source": [
    "def get_candidate_tokens(query_id):\n",
    "    candidate_file=get_candidate_id_file(query_id)\n",
    "    with open(candidate_file, \"r\") as f:\n",
    "        return f.readlines()"
   ]
  },
  {
   "cell_type": "code",
   "execution_count": 80,
   "metadata": {},
   "outputs": [],
   "source": [
    "def get_candidate_embeddings(query_id):\n",
    "    tokens=get_candidate_tokens(query_id)\n",
    "    token_embs=dict()\n",
    "    for token in tokens:\n",
    "        emb=get_word_embeddings(token.strip())\n",
    "        token_embs[token.strip()]=emb.tolist()\n",
    "    return token_embs"
   ]
  },
  {
   "cell_type": "code",
   "execution_count": 81,
   "metadata": {},
   "outputs": [],
   "source": [
    "def save_candidate_embeddings(query_id, key_value_dict):\n",
    "    emb_file=get_candidate_id_embedding_file(query_id)\n",
    "    with open(emb_file, \"w\") as f:\n",
    "        json.dump(key_value_dict, f)"
   ]
  },
  {
   "cell_type": "code",
   "execution_count": 82,
   "metadata": {},
   "outputs": [],
   "source": [
    "def collect_n_save_candidate_embeddings(query_id):\n",
    "    token_dict=get_candidate_embeddings(query_id)\n",
    "    save_candidate_embeddings(query_id, token_dict)"
   ]
  },
  {
   "cell_type": "code",
   "execution_count": 92,
   "metadata": {},
   "outputs": [],
   "source": [
    "collect_n_save_candidate_embeddings(2)"
   ]
  },
  {
   "cell_type": "code",
   "execution_count": 88,
   "metadata": {},
   "outputs": [],
   "source": [
    "def read_candidate_embeddings(query_id):\n",
    "    emb_file=get_candidate_id_embedding_file(query_id)\n",
    "    with open(emb_file,\"r\") as f:\n",
    "        loaded_dict = json.load(f)\n",
    "    return loaded_dict"
   ]
  },
  {
   "cell_type": "code",
   "execution_count": 111,
   "metadata": {},
   "outputs": [],
   "source": [
    "collect_n_save_candidate_embeddings(310)"
   ]
  },
  {
   "cell_type": "code",
   "execution_count": 109,
   "metadata": {},
   "outputs": [],
   "source": [
    "def collect_all_embeddings(num_query):\n",
    "    for query_id in range(num_query):\n",
    "        if query_id < 163:\n",
    "            continue\n",
    "        collect_n_save_candidate_embeddings(query_id+1)"
   ]
  },
  {
   "cell_type": "code",
   "execution_count": 110,
   "metadata": {},
   "outputs": [],
   "source": [
    "collect_all_embeddings(310)"
   ]
  }
 ],
 "metadata": {
  "kernelspec": {
   "display_name": "base",
   "language": "python",
   "name": "python3"
  },
  "language_info": {
   "codemirror_mode": {
    "name": "ipython",
    "version": 3
   },
   "file_extension": ".py",
   "mimetype": "text/x-python",
   "name": "python",
   "nbconvert_exporter": "python",
   "pygments_lexer": "ipython3",
   "version": "3.12.4"
  }
 },
 "nbformat": 4,
 "nbformat_minor": 2
}
